{
 "cells": [
  {
   "cell_type": "markdown",
   "metadata": {},
   "source": [
    "**Exploratory Data Analysis**\n",
    "\n",
    "To start exploring the data I will first start off with importing the necessary libraries I will be needing"
   ]
  },
  {
   "cell_type": "code",
   "execution_count": 1,
   "metadata": {},
   "outputs": [],
   "source": [
    "import pandas as pd\n",
    "from pandas import Series, DataFrame\n",
    "import numpy as np\n",
    "import seaborn as sns\n",
    "import os\n",
    "from sklearn.model_selection import train_test_split\n",
    "from sklearn import ensemble\n",
    "from sklearn.metrics import mean_absolute_error\n",
    "from sklearn.model_selection import GridSearchCV\n",
    "import matplotlib.pyplot as plt\n",
    "%matplotlib inline\n",
    "import statsmodels.api as sm"
   ]
  },
  {
   "cell_type": "markdown",
   "metadata": {},
   "source": [
    "**House Data Info**\n",
    "\n",
    "The dataframe that I will be working with is a houses data set, the first step is that I will read into the csv file"
   ]
  },
  {
   "cell_type": "code",
   "execution_count": 2,
   "metadata": {},
   "outputs": [
    {
     "data": {
      "text/html": [
       "<div>\n",
       "<style scoped>\n",
       "    .dataframe tbody tr th:only-of-type {\n",
       "        vertical-align: middle;\n",
       "    }\n",
       "\n",
       "    .dataframe tbody tr th {\n",
       "        vertical-align: top;\n",
       "    }\n",
       "\n",
       "    .dataframe thead th {\n",
       "        text-align: right;\n",
       "    }\n",
       "</style>\n",
       "<table border=\"1\" class=\"dataframe\">\n",
       "  <thead>\n",
       "    <tr style=\"text-align: right;\">\n",
       "      <th></th>\n",
       "      <th>year_built</th>\n",
       "      <th>stories</th>\n",
       "      <th>num_bedrooms</th>\n",
       "      <th>full_bathrooms</th>\n",
       "      <th>half_bathrooms</th>\n",
       "      <th>livable_sqft</th>\n",
       "      <th>total_sqft</th>\n",
       "      <th>garage_type</th>\n",
       "      <th>garage_sqft</th>\n",
       "      <th>carport_sqft</th>\n",
       "      <th>has_fireplace</th>\n",
       "      <th>has_pool</th>\n",
       "      <th>has_central_heating</th>\n",
       "      <th>has_central_cooling</th>\n",
       "      <th>house_number</th>\n",
       "      <th>street_name</th>\n",
       "      <th>unit_number</th>\n",
       "      <th>city</th>\n",
       "      <th>zip_code</th>\n",
       "      <th>sale_price</th>\n",
       "    </tr>\n",
       "  </thead>\n",
       "  <tbody>\n",
       "    <tr>\n",
       "      <th>0</th>\n",
       "      <td>1978</td>\n",
       "      <td>1</td>\n",
       "      <td>4</td>\n",
       "      <td>1</td>\n",
       "      <td>1</td>\n",
       "      <td>1689</td>\n",
       "      <td>1859</td>\n",
       "      <td>attached</td>\n",
       "      <td>508</td>\n",
       "      <td>0</td>\n",
       "      <td>True</td>\n",
       "      <td>False</td>\n",
       "      <td>True</td>\n",
       "      <td>True</td>\n",
       "      <td>42670</td>\n",
       "      <td>Lopez Crossing</td>\n",
       "      <td>NaN</td>\n",
       "      <td>Hallfort</td>\n",
       "      <td>10907</td>\n",
       "      <td>270897.0</td>\n",
       "    </tr>\n",
       "    <tr>\n",
       "      <th>1</th>\n",
       "      <td>1958</td>\n",
       "      <td>1</td>\n",
       "      <td>3</td>\n",
       "      <td>1</td>\n",
       "      <td>1</td>\n",
       "      <td>1984</td>\n",
       "      <td>2002</td>\n",
       "      <td>attached</td>\n",
       "      <td>462</td>\n",
       "      <td>0</td>\n",
       "      <td>True</td>\n",
       "      <td>False</td>\n",
       "      <td>True</td>\n",
       "      <td>True</td>\n",
       "      <td>5194</td>\n",
       "      <td>Gardner Park</td>\n",
       "      <td>NaN</td>\n",
       "      <td>Hallfort</td>\n",
       "      <td>10907</td>\n",
       "      <td>302404.0</td>\n",
       "    </tr>\n",
       "    <tr>\n",
       "      <th>2</th>\n",
       "      <td>2002</td>\n",
       "      <td>1</td>\n",
       "      <td>3</td>\n",
       "      <td>2</td>\n",
       "      <td>0</td>\n",
       "      <td>1581</td>\n",
       "      <td>1578</td>\n",
       "      <td>none</td>\n",
       "      <td>0</td>\n",
       "      <td>625</td>\n",
       "      <td>False</td>\n",
       "      <td>False</td>\n",
       "      <td>True</td>\n",
       "      <td>True</td>\n",
       "      <td>4366</td>\n",
       "      <td>Harding Islands</td>\n",
       "      <td>NaN</td>\n",
       "      <td>Lake Christinaport</td>\n",
       "      <td>11203</td>\n",
       "      <td>2519996.0</td>\n",
       "    </tr>\n",
       "    <tr>\n",
       "      <th>3</th>\n",
       "      <td>2004</td>\n",
       "      <td>1</td>\n",
       "      <td>4</td>\n",
       "      <td>2</td>\n",
       "      <td>0</td>\n",
       "      <td>1829</td>\n",
       "      <td>2277</td>\n",
       "      <td>attached</td>\n",
       "      <td>479</td>\n",
       "      <td>0</td>\n",
       "      <td>True</td>\n",
       "      <td>False</td>\n",
       "      <td>True</td>\n",
       "      <td>True</td>\n",
       "      <td>3302</td>\n",
       "      <td>Michelle Highway</td>\n",
       "      <td>NaN</td>\n",
       "      <td>Lake Christinaport</td>\n",
       "      <td>11203</td>\n",
       "      <td>197193.0</td>\n",
       "    </tr>\n",
       "    <tr>\n",
       "      <th>4</th>\n",
       "      <td>2006</td>\n",
       "      <td>1</td>\n",
       "      <td>4</td>\n",
       "      <td>2</td>\n",
       "      <td>0</td>\n",
       "      <td>1580</td>\n",
       "      <td>1749</td>\n",
       "      <td>attached</td>\n",
       "      <td>430</td>\n",
       "      <td>0</td>\n",
       "      <td>True</td>\n",
       "      <td>False</td>\n",
       "      <td>True</td>\n",
       "      <td>True</td>\n",
       "      <td>582</td>\n",
       "      <td>Jacob Cape</td>\n",
       "      <td>NaN</td>\n",
       "      <td>Lake Christinaport</td>\n",
       "      <td>11203</td>\n",
       "      <td>207897.0</td>\n",
       "    </tr>\n",
       "  </tbody>\n",
       "</table>\n",
       "</div>"
      ],
      "text/plain": [
       "   year_built  stories  num_bedrooms  full_bathrooms  half_bathrooms  \\\n",
       "0        1978        1             4               1               1   \n",
       "1        1958        1             3               1               1   \n",
       "2        2002        1             3               2               0   \n",
       "3        2004        1             4               2               0   \n",
       "4        2006        1             4               2               0   \n",
       "\n",
       "   livable_sqft  total_sqft garage_type  garage_sqft  carport_sqft  \\\n",
       "0          1689        1859    attached          508             0   \n",
       "1          1984        2002    attached          462             0   \n",
       "2          1581        1578        none            0           625   \n",
       "3          1829        2277    attached          479             0   \n",
       "4          1580        1749    attached          430             0   \n",
       "\n",
       "   has_fireplace  has_pool  has_central_heating  has_central_cooling  \\\n",
       "0           True     False                 True                 True   \n",
       "1           True     False                 True                 True   \n",
       "2          False     False                 True                 True   \n",
       "3           True     False                 True                 True   \n",
       "4           True     False                 True                 True   \n",
       "\n",
       "   house_number       street_name  unit_number                city  zip_code  \\\n",
       "0         42670    Lopez Crossing          NaN            Hallfort     10907   \n",
       "1          5194      Gardner Park          NaN            Hallfort     10907   \n",
       "2          4366   Harding Islands          NaN  Lake Christinaport     11203   \n",
       "3          3302  Michelle Highway          NaN  Lake Christinaport     11203   \n",
       "4           582        Jacob Cape          NaN  Lake Christinaport     11203   \n",
       "\n",
       "   sale_price  \n",
       "0    270897.0  \n",
       "1    302404.0  \n",
       "2   2519996.0  \n",
       "3    197193.0  \n",
       "4    207897.0  "
      ]
     },
     "execution_count": 2,
     "metadata": {},
     "output_type": "execute_result"
    }
   ],
   "source": [
    "# Read the dataset into a data table using Pandas and show the first 5 rows\n",
    "house_df = pd.read_csv('Data/house_data_set.csv')\n",
    "house_df.head()"
   ]
  },
  {
   "cell_type": "markdown",
   "metadata": {},
   "source": [
    "I will get additional information on the dataframe to see if it has any null values and the types of data"
   ]
  },
  {
   "cell_type": "code",
   "execution_count": 3,
   "metadata": {},
   "outputs": [
    {
     "name": "stdout",
     "output_type": "stream",
     "text": [
      "<class 'pandas.core.frame.DataFrame'>\n",
      "RangeIndex: 42703 entries, 0 to 42702\n",
      "Data columns (total 20 columns):\n",
      " #   Column               Non-Null Count  Dtype  \n",
      "---  ------               --------------  -----  \n",
      " 0   year_built           42703 non-null  int64  \n",
      " 1   stories              42703 non-null  int64  \n",
      " 2   num_bedrooms         42703 non-null  int64  \n",
      " 3   full_bathrooms       42703 non-null  int64  \n",
      " 4   half_bathrooms       42703 non-null  int64  \n",
      " 5   livable_sqft         42703 non-null  int64  \n",
      " 6   total_sqft           42703 non-null  int64  \n",
      " 7   garage_type          42703 non-null  object \n",
      " 8   garage_sqft          42703 non-null  int64  \n",
      " 9   carport_sqft         42703 non-null  int64  \n",
      " 10  has_fireplace        42703 non-null  bool   \n",
      " 11  has_pool             42703 non-null  bool   \n",
      " 12  has_central_heating  42703 non-null  bool   \n",
      " 13  has_central_cooling  42703 non-null  bool   \n",
      " 14  house_number         42703 non-null  int64  \n",
      " 15  street_name          42703 non-null  object \n",
      " 16  unit_number          3088 non-null   float64\n",
      " 17  city                 42703 non-null  object \n",
      " 18  zip_code             42703 non-null  int64  \n",
      " 19  sale_price           42703 non-null  float64\n",
      "dtypes: bool(4), float64(2), int64(11), object(3)\n",
      "memory usage: 5.4+ MB\n"
     ]
    }
   ],
   "source": [
    "#Basic info on data\n",
    "house_df.info()"
   ]
  },
  {
   "cell_type": "code",
   "execution_count": 4,
   "metadata": {},
   "outputs": [
    {
     "data": {
      "text/html": [
       "<div>\n",
       "<style scoped>\n",
       "    .dataframe tbody tr th:only-of-type {\n",
       "        vertical-align: middle;\n",
       "    }\n",
       "\n",
       "    .dataframe tbody tr th {\n",
       "        vertical-align: top;\n",
       "    }\n",
       "\n",
       "    .dataframe thead th {\n",
       "        text-align: right;\n",
       "    }\n",
       "</style>\n",
       "<table border=\"1\" class=\"dataframe\">\n",
       "  <thead>\n",
       "    <tr style=\"text-align: right;\">\n",
       "      <th></th>\n",
       "      <th>year_built</th>\n",
       "      <th>stories</th>\n",
       "      <th>num_bedrooms</th>\n",
       "      <th>full_bathrooms</th>\n",
       "      <th>half_bathrooms</th>\n",
       "      <th>livable_sqft</th>\n",
       "      <th>total_sqft</th>\n",
       "      <th>garage_sqft</th>\n",
       "      <th>carport_sqft</th>\n",
       "      <th>house_number</th>\n",
       "      <th>unit_number</th>\n",
       "      <th>zip_code</th>\n",
       "      <th>sale_price</th>\n",
       "    </tr>\n",
       "  </thead>\n",
       "  <tbody>\n",
       "    <tr>\n",
       "      <th>count</th>\n",
       "      <td>42703.000000</td>\n",
       "      <td>42703.000000</td>\n",
       "      <td>42703.000000</td>\n",
       "      <td>42703.000000</td>\n",
       "      <td>42703.000000</td>\n",
       "      <td>42703.000000</td>\n",
       "      <td>42703.000000</td>\n",
       "      <td>42703.000000</td>\n",
       "      <td>42703.000000</td>\n",
       "      <td>42703.000000</td>\n",
       "      <td>3088.000000</td>\n",
       "      <td>42703.000000</td>\n",
       "      <td>4.270300e+04</td>\n",
       "    </tr>\n",
       "    <tr>\n",
       "      <th>mean</th>\n",
       "      <td>1990.993209</td>\n",
       "      <td>1.365759</td>\n",
       "      <td>3.209283</td>\n",
       "      <td>1.923659</td>\n",
       "      <td>0.527153</td>\n",
       "      <td>1987.758986</td>\n",
       "      <td>2127.155446</td>\n",
       "      <td>455.849800</td>\n",
       "      <td>41.656324</td>\n",
       "      <td>18211.767347</td>\n",
       "      <td>2027.395402</td>\n",
       "      <td>11030.991476</td>\n",
       "      <td>4.135071e+05</td>\n",
       "    </tr>\n",
       "    <tr>\n",
       "      <th>std</th>\n",
       "      <td>19.199987</td>\n",
       "      <td>0.513602</td>\n",
       "      <td>1.043396</td>\n",
       "      <td>0.759699</td>\n",
       "      <td>0.499268</td>\n",
       "      <td>846.766270</td>\n",
       "      <td>922.807342</td>\n",
       "      <td>243.453463</td>\n",
       "      <td>168.715867</td>\n",
       "      <td>27457.109993</td>\n",
       "      <td>1141.383770</td>\n",
       "      <td>573.576228</td>\n",
       "      <td>3.185497e+05</td>\n",
       "    </tr>\n",
       "    <tr>\n",
       "      <th>min</th>\n",
       "      <td>1852.000000</td>\n",
       "      <td>0.000000</td>\n",
       "      <td>0.000000</td>\n",
       "      <td>0.000000</td>\n",
       "      <td>0.000000</td>\n",
       "      <td>-3.000000</td>\n",
       "      <td>5.000000</td>\n",
       "      <td>-4.000000</td>\n",
       "      <td>0.000000</td>\n",
       "      <td>0.000000</td>\n",
       "      <td>3.000000</td>\n",
       "      <td>10004.000000</td>\n",
       "      <td>6.260000e+02</td>\n",
       "    </tr>\n",
       "    <tr>\n",
       "      <th>25%</th>\n",
       "      <td>1980.000000</td>\n",
       "      <td>1.000000</td>\n",
       "      <td>3.000000</td>\n",
       "      <td>1.000000</td>\n",
       "      <td>0.000000</td>\n",
       "      <td>1380.000000</td>\n",
       "      <td>1466.000000</td>\n",
       "      <td>412.000000</td>\n",
       "      <td>0.000000</td>\n",
       "      <td>674.000000</td>\n",
       "      <td>1063.000000</td>\n",
       "      <td>10537.000000</td>\n",
       "      <td>2.708990e+05</td>\n",
       "    </tr>\n",
       "    <tr>\n",
       "      <th>50%</th>\n",
       "      <td>1994.000000</td>\n",
       "      <td>1.000000</td>\n",
       "      <td>3.000000</td>\n",
       "      <td>2.000000</td>\n",
       "      <td>1.000000</td>\n",
       "      <td>1808.000000</td>\n",
       "      <td>1937.000000</td>\n",
       "      <td>464.000000</td>\n",
       "      <td>0.000000</td>\n",
       "      <td>4530.000000</td>\n",
       "      <td>2033.000000</td>\n",
       "      <td>11071.000000</td>\n",
       "      <td>3.780010e+05</td>\n",
       "    </tr>\n",
       "    <tr>\n",
       "      <th>75%</th>\n",
       "      <td>2005.000000</td>\n",
       "      <td>2.000000</td>\n",
       "      <td>4.000000</td>\n",
       "      <td>2.000000</td>\n",
       "      <td>1.000000</td>\n",
       "      <td>2486.000000</td>\n",
       "      <td>2640.000000</td>\n",
       "      <td>606.000000</td>\n",
       "      <td>0.000000</td>\n",
       "      <td>24844.500000</td>\n",
       "      <td>2921.000000</td>\n",
       "      <td>11510.000000</td>\n",
       "      <td>4.976970e+05</td>\n",
       "    </tr>\n",
       "    <tr>\n",
       "      <th>max</th>\n",
       "      <td>2017.000000</td>\n",
       "      <td>4.000000</td>\n",
       "      <td>31.000000</td>\n",
       "      <td>8.000000</td>\n",
       "      <td>1.000000</td>\n",
       "      <td>12406.000000</td>\n",
       "      <td>15449.000000</td>\n",
       "      <td>8318.000000</td>\n",
       "      <td>9200.000000</td>\n",
       "      <td>99971.000000</td>\n",
       "      <td>3998.000000</td>\n",
       "      <td>11989.000000</td>\n",
       "      <td>2.104200e+07</td>\n",
       "    </tr>\n",
       "  </tbody>\n",
       "</table>\n",
       "</div>"
      ],
      "text/plain": [
       "         year_built       stories  num_bedrooms  full_bathrooms  \\\n",
       "count  42703.000000  42703.000000  42703.000000    42703.000000   \n",
       "mean    1990.993209      1.365759      3.209283        1.923659   \n",
       "std       19.199987      0.513602      1.043396        0.759699   \n",
       "min     1852.000000      0.000000      0.000000        0.000000   \n",
       "25%     1980.000000      1.000000      3.000000        1.000000   \n",
       "50%     1994.000000      1.000000      3.000000        2.000000   \n",
       "75%     2005.000000      2.000000      4.000000        2.000000   \n",
       "max     2017.000000      4.000000     31.000000        8.000000   \n",
       "\n",
       "       half_bathrooms  livable_sqft    total_sqft   garage_sqft  carport_sqft  \\\n",
       "count    42703.000000  42703.000000  42703.000000  42703.000000  42703.000000   \n",
       "mean         0.527153   1987.758986   2127.155446    455.849800     41.656324   \n",
       "std          0.499268    846.766270    922.807342    243.453463    168.715867   \n",
       "min          0.000000     -3.000000      5.000000     -4.000000      0.000000   \n",
       "25%          0.000000   1380.000000   1466.000000    412.000000      0.000000   \n",
       "50%          1.000000   1808.000000   1937.000000    464.000000      0.000000   \n",
       "75%          1.000000   2486.000000   2640.000000    606.000000      0.000000   \n",
       "max          1.000000  12406.000000  15449.000000   8318.000000   9200.000000   \n",
       "\n",
       "       house_number  unit_number      zip_code    sale_price  \n",
       "count  42703.000000  3088.000000  42703.000000  4.270300e+04  \n",
       "mean   18211.767347  2027.395402  11030.991476  4.135071e+05  \n",
       "std    27457.109993  1141.383770    573.576228  3.185497e+05  \n",
       "min        0.000000     3.000000  10004.000000  6.260000e+02  \n",
       "25%      674.000000  1063.000000  10537.000000  2.708990e+05  \n",
       "50%     4530.000000  2033.000000  11071.000000  3.780010e+05  \n",
       "75%    24844.500000  2921.000000  11510.000000  4.976970e+05  \n",
       "max    99971.000000  3998.000000  11989.000000  2.104200e+07  "
      ]
     },
     "execution_count": 4,
     "metadata": {},
     "output_type": "execute_result"
    }
   ],
   "source": [
    "house_df.describe()"
   ]
  },
  {
   "cell_type": "markdown",
   "metadata": {},
   "source": [
    "This data set has 19 house features (not counting sale price) and 42703 data entries, I will be using those features in my model to help predict the house sale price."
   ]
  },
  {
   "cell_type": "code",
   "execution_count": 38,
   "metadata": {},
   "outputs": [
    {
     "data": {
      "text/html": [
       "<div>\n",
       "<style scoped>\n",
       "    .dataframe tbody tr th:only-of-type {\n",
       "        vertical-align: middle;\n",
       "    }\n",
       "\n",
       "    .dataframe tbody tr th {\n",
       "        vertical-align: top;\n",
       "    }\n",
       "\n",
       "    .dataframe thead th {\n",
       "        text-align: right;\n",
       "    }\n",
       "</style>\n",
       "<table border=\"1\" class=\"dataframe\">\n",
       "  <thead>\n",
       "    <tr style=\"text-align: right;\">\n",
       "      <th></th>\n",
       "      <th>year_built</th>\n",
       "      <th>stories</th>\n",
       "      <th>num_bedrooms</th>\n",
       "      <th>full_bathrooms</th>\n",
       "      <th>half_bathrooms</th>\n",
       "      <th>livable_sqft</th>\n",
       "      <th>total_sqft</th>\n",
       "      <th>garage_sqft</th>\n",
       "      <th>carport_sqft</th>\n",
       "      <th>has_fireplace</th>\n",
       "      <th>has_pool</th>\n",
       "      <th>has_central_heating</th>\n",
       "      <th>has_central_cooling</th>\n",
       "      <th>sale_price</th>\n",
       "    </tr>\n",
       "  </thead>\n",
       "  <tbody>\n",
       "    <tr>\n",
       "      <th>year_built</th>\n",
       "      <td>1.000000</td>\n",
       "      <td>0.340048</td>\n",
       "      <td>0.354184</td>\n",
       "      <td>0.507460</td>\n",
       "      <td>0.018290</td>\n",
       "      <td>0.501600</td>\n",
       "      <td>0.441766</td>\n",
       "      <td>0.418244</td>\n",
       "      <td>-0.183255</td>\n",
       "      <td>0.133737</td>\n",
       "      <td>-0.023889</td>\n",
       "      <td>0.535366</td>\n",
       "      <td>0.566484</td>\n",
       "      <td>0.227948</td>\n",
       "    </tr>\n",
       "    <tr>\n",
       "      <th>stories</th>\n",
       "      <td>0.340048</td>\n",
       "      <td>1.000000</td>\n",
       "      <td>0.411178</td>\n",
       "      <td>0.386661</td>\n",
       "      <td>0.188167</td>\n",
       "      <td>0.402780</td>\n",
       "      <td>0.345969</td>\n",
       "      <td>0.263845</td>\n",
       "      <td>-0.164134</td>\n",
       "      <td>0.177420</td>\n",
       "      <td>-0.027474</td>\n",
       "      <td>0.145494</td>\n",
       "      <td>0.176515</td>\n",
       "      <td>0.130693</td>\n",
       "    </tr>\n",
       "    <tr>\n",
       "      <th>num_bedrooms</th>\n",
       "      <td>0.354184</td>\n",
       "      <td>0.411178</td>\n",
       "      <td>1.000000</td>\n",
       "      <td>0.547654</td>\n",
       "      <td>0.090575</td>\n",
       "      <td>0.646047</td>\n",
       "      <td>0.599964</td>\n",
       "      <td>0.479839</td>\n",
       "      <td>-0.224600</td>\n",
       "      <td>0.310697</td>\n",
       "      <td>0.156539</td>\n",
       "      <td>0.179828</td>\n",
       "      <td>0.190266</td>\n",
       "      <td>0.316768</td>\n",
       "    </tr>\n",
       "    <tr>\n",
       "      <th>full_bathrooms</th>\n",
       "      <td>0.507460</td>\n",
       "      <td>0.386661</td>\n",
       "      <td>0.547654</td>\n",
       "      <td>1.000000</td>\n",
       "      <td>-0.326024</td>\n",
       "      <td>0.718242</td>\n",
       "      <td>0.683580</td>\n",
       "      <td>0.419770</td>\n",
       "      <td>-0.071632</td>\n",
       "      <td>0.234325</td>\n",
       "      <td>0.169734</td>\n",
       "      <td>0.273856</td>\n",
       "      <td>0.310613</td>\n",
       "      <td>0.429947</td>\n",
       "    </tr>\n",
       "    <tr>\n",
       "      <th>half_bathrooms</th>\n",
       "      <td>0.018290</td>\n",
       "      <td>0.188167</td>\n",
       "      <td>0.090575</td>\n",
       "      <td>-0.326024</td>\n",
       "      <td>1.000000</td>\n",
       "      <td>0.103696</td>\n",
       "      <td>0.108050</td>\n",
       "      <td>0.154152</td>\n",
       "      <td>-0.155806</td>\n",
       "      <td>0.110508</td>\n",
       "      <td>0.046666</td>\n",
       "      <td>0.082710</td>\n",
       "      <td>0.060697</td>\n",
       "      <td>0.094280</td>\n",
       "    </tr>\n",
       "    <tr>\n",
       "      <th>livable_sqft</th>\n",
       "      <td>0.501600</td>\n",
       "      <td>0.402780</td>\n",
       "      <td>0.646047</td>\n",
       "      <td>0.718242</td>\n",
       "      <td>0.103696</td>\n",
       "      <td>1.000000</td>\n",
       "      <td>0.975450</td>\n",
       "      <td>0.597781</td>\n",
       "      <td>-0.179945</td>\n",
       "      <td>0.321354</td>\n",
       "      <td>0.261967</td>\n",
       "      <td>0.257247</td>\n",
       "      <td>0.294371</td>\n",
       "      <td>0.627508</td>\n",
       "    </tr>\n",
       "    <tr>\n",
       "      <th>total_sqft</th>\n",
       "      <td>0.441766</td>\n",
       "      <td>0.345969</td>\n",
       "      <td>0.599964</td>\n",
       "      <td>0.683580</td>\n",
       "      <td>0.108050</td>\n",
       "      <td>0.975450</td>\n",
       "      <td>1.000000</td>\n",
       "      <td>0.586785</td>\n",
       "      <td>-0.180651</td>\n",
       "      <td>0.314783</td>\n",
       "      <td>0.290305</td>\n",
       "      <td>0.228405</td>\n",
       "      <td>0.266848</td>\n",
       "      <td>0.660714</td>\n",
       "    </tr>\n",
       "    <tr>\n",
       "      <th>garage_sqft</th>\n",
       "      <td>0.418244</td>\n",
       "      <td>0.263845</td>\n",
       "      <td>0.479839</td>\n",
       "      <td>0.419770</td>\n",
       "      <td>0.154152</td>\n",
       "      <td>0.597781</td>\n",
       "      <td>0.586785</td>\n",
       "      <td>1.000000</td>\n",
       "      <td>-0.406683</td>\n",
       "      <td>0.415696</td>\n",
       "      <td>0.202434</td>\n",
       "      <td>0.240686</td>\n",
       "      <td>0.284199</td>\n",
       "      <td>0.448928</td>\n",
       "    </tr>\n",
       "    <tr>\n",
       "      <th>carport_sqft</th>\n",
       "      <td>-0.183255</td>\n",
       "      <td>-0.164134</td>\n",
       "      <td>-0.224600</td>\n",
       "      <td>-0.071632</td>\n",
       "      <td>-0.155806</td>\n",
       "      <td>-0.179945</td>\n",
       "      <td>-0.180651</td>\n",
       "      <td>-0.406683</td>\n",
       "      <td>1.000000</td>\n",
       "      <td>-0.268507</td>\n",
       "      <td>-0.078099</td>\n",
       "      <td>-0.008206</td>\n",
       "      <td>-0.057609</td>\n",
       "      <td>-0.197384</td>\n",
       "    </tr>\n",
       "    <tr>\n",
       "      <th>has_fireplace</th>\n",
       "      <td>0.133737</td>\n",
       "      <td>0.177420</td>\n",
       "      <td>0.310697</td>\n",
       "      <td>0.234325</td>\n",
       "      <td>0.110508</td>\n",
       "      <td>0.321354</td>\n",
       "      <td>0.314783</td>\n",
       "      <td>0.415696</td>\n",
       "      <td>-0.268507</td>\n",
       "      <td>1.000000</td>\n",
       "      <td>0.229999</td>\n",
       "      <td>0.177342</td>\n",
       "      <td>0.190158</td>\n",
       "      <td>0.275813</td>\n",
       "    </tr>\n",
       "    <tr>\n",
       "      <th>has_pool</th>\n",
       "      <td>-0.023889</td>\n",
       "      <td>-0.027474</td>\n",
       "      <td>0.156539</td>\n",
       "      <td>0.169734</td>\n",
       "      <td>0.046666</td>\n",
       "      <td>0.261967</td>\n",
       "      <td>0.290305</td>\n",
       "      <td>0.202434</td>\n",
       "      <td>-0.078099</td>\n",
       "      <td>0.229999</td>\n",
       "      <td>1.000000</td>\n",
       "      <td>0.069128</td>\n",
       "      <td>0.070788</td>\n",
       "      <td>0.355073</td>\n",
       "    </tr>\n",
       "    <tr>\n",
       "      <th>has_central_heating</th>\n",
       "      <td>0.535366</td>\n",
       "      <td>0.145494</td>\n",
       "      <td>0.179828</td>\n",
       "      <td>0.273856</td>\n",
       "      <td>0.082710</td>\n",
       "      <td>0.257247</td>\n",
       "      <td>0.228405</td>\n",
       "      <td>0.240686</td>\n",
       "      <td>-0.008206</td>\n",
       "      <td>0.177342</td>\n",
       "      <td>0.069128</td>\n",
       "      <td>1.000000</td>\n",
       "      <td>0.764562</td>\n",
       "      <td>0.115658</td>\n",
       "    </tr>\n",
       "    <tr>\n",
       "      <th>has_central_cooling</th>\n",
       "      <td>0.566484</td>\n",
       "      <td>0.176515</td>\n",
       "      <td>0.190266</td>\n",
       "      <td>0.310613</td>\n",
       "      <td>0.060697</td>\n",
       "      <td>0.294371</td>\n",
       "      <td>0.266848</td>\n",
       "      <td>0.284199</td>\n",
       "      <td>-0.057609</td>\n",
       "      <td>0.190158</td>\n",
       "      <td>0.070788</td>\n",
       "      <td>0.764562</td>\n",
       "      <td>1.000000</td>\n",
       "      <td>0.142121</td>\n",
       "    </tr>\n",
       "    <tr>\n",
       "      <th>sale_price</th>\n",
       "      <td>0.227948</td>\n",
       "      <td>0.130693</td>\n",
       "      <td>0.316768</td>\n",
       "      <td>0.429947</td>\n",
       "      <td>0.094280</td>\n",
       "      <td>0.627508</td>\n",
       "      <td>0.660714</td>\n",
       "      <td>0.448928</td>\n",
       "      <td>-0.197384</td>\n",
       "      <td>0.275813</td>\n",
       "      <td>0.355073</td>\n",
       "      <td>0.115658</td>\n",
       "      <td>0.142121</td>\n",
       "      <td>1.000000</td>\n",
       "    </tr>\n",
       "  </tbody>\n",
       "</table>\n",
       "</div>"
      ],
      "text/plain": [
       "                     year_built   stories  num_bedrooms  full_bathrooms  \\\n",
       "year_built             1.000000  0.340048      0.354184        0.507460   \n",
       "stories                0.340048  1.000000      0.411178        0.386661   \n",
       "num_bedrooms           0.354184  0.411178      1.000000        0.547654   \n",
       "full_bathrooms         0.507460  0.386661      0.547654        1.000000   \n",
       "half_bathrooms         0.018290  0.188167      0.090575       -0.326024   \n",
       "livable_sqft           0.501600  0.402780      0.646047        0.718242   \n",
       "total_sqft             0.441766  0.345969      0.599964        0.683580   \n",
       "garage_sqft            0.418244  0.263845      0.479839        0.419770   \n",
       "carport_sqft          -0.183255 -0.164134     -0.224600       -0.071632   \n",
       "has_fireplace          0.133737  0.177420      0.310697        0.234325   \n",
       "has_pool              -0.023889 -0.027474      0.156539        0.169734   \n",
       "has_central_heating    0.535366  0.145494      0.179828        0.273856   \n",
       "has_central_cooling    0.566484  0.176515      0.190266        0.310613   \n",
       "sale_price             0.227948  0.130693      0.316768        0.429947   \n",
       "\n",
       "                     half_bathrooms  livable_sqft  total_sqft  garage_sqft  \\\n",
       "year_built                 0.018290      0.501600    0.441766     0.418244   \n",
       "stories                    0.188167      0.402780    0.345969     0.263845   \n",
       "num_bedrooms               0.090575      0.646047    0.599964     0.479839   \n",
       "full_bathrooms            -0.326024      0.718242    0.683580     0.419770   \n",
       "half_bathrooms             1.000000      0.103696    0.108050     0.154152   \n",
       "livable_sqft               0.103696      1.000000    0.975450     0.597781   \n",
       "total_sqft                 0.108050      0.975450    1.000000     0.586785   \n",
       "garage_sqft                0.154152      0.597781    0.586785     1.000000   \n",
       "carport_sqft              -0.155806     -0.179945   -0.180651    -0.406683   \n",
       "has_fireplace              0.110508      0.321354    0.314783     0.415696   \n",
       "has_pool                   0.046666      0.261967    0.290305     0.202434   \n",
       "has_central_heating        0.082710      0.257247    0.228405     0.240686   \n",
       "has_central_cooling        0.060697      0.294371    0.266848     0.284199   \n",
       "sale_price                 0.094280      0.627508    0.660714     0.448928   \n",
       "\n",
       "                     carport_sqft  has_fireplace  has_pool  \\\n",
       "year_built              -0.183255       0.133737 -0.023889   \n",
       "stories                 -0.164134       0.177420 -0.027474   \n",
       "num_bedrooms            -0.224600       0.310697  0.156539   \n",
       "full_bathrooms          -0.071632       0.234325  0.169734   \n",
       "half_bathrooms          -0.155806       0.110508  0.046666   \n",
       "livable_sqft            -0.179945       0.321354  0.261967   \n",
       "total_sqft              -0.180651       0.314783  0.290305   \n",
       "garage_sqft             -0.406683       0.415696  0.202434   \n",
       "carport_sqft             1.000000      -0.268507 -0.078099   \n",
       "has_fireplace           -0.268507       1.000000  0.229999   \n",
       "has_pool                -0.078099       0.229999  1.000000   \n",
       "has_central_heating     -0.008206       0.177342  0.069128   \n",
       "has_central_cooling     -0.057609       0.190158  0.070788   \n",
       "sale_price              -0.197384       0.275813  0.355073   \n",
       "\n",
       "                     has_central_heating  has_central_cooling  sale_price  \n",
       "year_built                      0.535366             0.566484    0.227948  \n",
       "stories                         0.145494             0.176515    0.130693  \n",
       "num_bedrooms                    0.179828             0.190266    0.316768  \n",
       "full_bathrooms                  0.273856             0.310613    0.429947  \n",
       "half_bathrooms                  0.082710             0.060697    0.094280  \n",
       "livable_sqft                    0.257247             0.294371    0.627508  \n",
       "total_sqft                      0.228405             0.266848    0.660714  \n",
       "garage_sqft                     0.240686             0.284199    0.448928  \n",
       "carport_sqft                   -0.008206            -0.057609   -0.197384  \n",
       "has_fireplace                   0.177342             0.190158    0.275813  \n",
       "has_pool                        0.069128             0.070788    0.355073  \n",
       "has_central_heating             1.000000             0.764562    0.115658  \n",
       "has_central_cooling             0.764562             1.000000    0.142121  \n",
       "sale_price                      0.115658             0.142121    1.000000  "
      ]
     },
     "execution_count": 38,
     "metadata": {},
     "output_type": "execute_result"
    }
   ],
   "source": [
    "house_df.corr()"
   ]
  },
  {
   "cell_type": "markdown",
   "metadata": {},
   "source": [
    "**Data Cleaning & Preparation**\n",
    "\n",
    "In this section, I will start by cleaning the house dataframe before drawing any conclusions. It will help inspect the data better and get a more accurate general understanding of the data at hand.\n",
    "\n",
    "**Step 1:** check  all columns in data frame"
   ]
  },
  {
   "cell_type": "code",
   "execution_count": 5,
   "metadata": {},
   "outputs": [
    {
     "data": {
      "text/plain": [
       "Index(['year_built', 'stories', 'num_bedrooms', 'full_bathrooms',\n",
       "       'half_bathrooms', 'livable_sqft', 'total_sqft', 'garage_type',\n",
       "       'garage_sqft', 'carport_sqft', 'has_fireplace', 'has_pool',\n",
       "       'has_central_heating', 'has_central_cooling', 'house_number',\n",
       "       'street_name', 'unit_number', 'city', 'zip_code', 'sale_price'],\n",
       "      dtype='object')"
      ]
     },
     "execution_count": 5,
     "metadata": {},
     "output_type": "execute_result"
    }
   ],
   "source": [
    "house_df.columns"
   ]
  },
  {
   "cell_type": "markdown",
   "metadata": {},
   "source": [
    "Now that I have seen all the columns and what features the dataframe entails, I want to select only the features that will be relative and useful to my model, in this next section I will be preparing the desired features. "
   ]
  },
  {
   "cell_type": "markdown",
   "metadata": {},
   "source": [
    "**Step 2:** Remove unwanted columns\n",
    "\n",
    "There are some features that will not be useful in my model therefore, I will delete the columns that I won't need. \n",
    "\n",
    "The house number isn't going to be useful to include in the model since it's not likely that anyone buys a house because the street number assigned to it, it's just a random number. So I will drop this field from the model. \n",
    "The same will go for unit number. As for street name, city, and zip code columns, the location of a house has a big influence on the value so we need to include at least some of this information in the model. However, these columns provide duplicate information. For example, if we know the zip code of a house, we already know what city it's in, so I don't need to include both city and zip code in my model. I will also delete street name since."
   ]
  },
  {
   "cell_type": "code",
   "execution_count": 6,
   "metadata": {
    "scrolled": false
   },
   "outputs": [
    {
     "data": {
      "text/html": [
       "<div>\n",
       "<style scoped>\n",
       "    .dataframe tbody tr th:only-of-type {\n",
       "        vertical-align: middle;\n",
       "    }\n",
       "\n",
       "    .dataframe tbody tr th {\n",
       "        vertical-align: top;\n",
       "    }\n",
       "\n",
       "    .dataframe thead th {\n",
       "        text-align: right;\n",
       "    }\n",
       "</style>\n",
       "<table border=\"1\" class=\"dataframe\">\n",
       "  <thead>\n",
       "    <tr style=\"text-align: right;\">\n",
       "      <th></th>\n",
       "      <th>year_built</th>\n",
       "      <th>stories</th>\n",
       "      <th>num_bedrooms</th>\n",
       "      <th>full_bathrooms</th>\n",
       "      <th>half_bathrooms</th>\n",
       "      <th>livable_sqft</th>\n",
       "      <th>total_sqft</th>\n",
       "      <th>garage_type</th>\n",
       "      <th>garage_sqft</th>\n",
       "      <th>carport_sqft</th>\n",
       "      <th>has_fireplace</th>\n",
       "      <th>has_pool</th>\n",
       "      <th>has_central_heating</th>\n",
       "      <th>has_central_cooling</th>\n",
       "      <th>city</th>\n",
       "      <th>sale_price</th>\n",
       "    </tr>\n",
       "  </thead>\n",
       "  <tbody>\n",
       "    <tr>\n",
       "      <th>0</th>\n",
       "      <td>1978</td>\n",
       "      <td>1</td>\n",
       "      <td>4</td>\n",
       "      <td>1</td>\n",
       "      <td>1</td>\n",
       "      <td>1689</td>\n",
       "      <td>1859</td>\n",
       "      <td>attached</td>\n",
       "      <td>508</td>\n",
       "      <td>0</td>\n",
       "      <td>True</td>\n",
       "      <td>False</td>\n",
       "      <td>True</td>\n",
       "      <td>True</td>\n",
       "      <td>Hallfort</td>\n",
       "      <td>270897.0</td>\n",
       "    </tr>\n",
       "    <tr>\n",
       "      <th>1</th>\n",
       "      <td>1958</td>\n",
       "      <td>1</td>\n",
       "      <td>3</td>\n",
       "      <td>1</td>\n",
       "      <td>1</td>\n",
       "      <td>1984</td>\n",
       "      <td>2002</td>\n",
       "      <td>attached</td>\n",
       "      <td>462</td>\n",
       "      <td>0</td>\n",
       "      <td>True</td>\n",
       "      <td>False</td>\n",
       "      <td>True</td>\n",
       "      <td>True</td>\n",
       "      <td>Hallfort</td>\n",
       "      <td>302404.0</td>\n",
       "    </tr>\n",
       "    <tr>\n",
       "      <th>2</th>\n",
       "      <td>2002</td>\n",
       "      <td>1</td>\n",
       "      <td>3</td>\n",
       "      <td>2</td>\n",
       "      <td>0</td>\n",
       "      <td>1581</td>\n",
       "      <td>1578</td>\n",
       "      <td>none</td>\n",
       "      <td>0</td>\n",
       "      <td>625</td>\n",
       "      <td>False</td>\n",
       "      <td>False</td>\n",
       "      <td>True</td>\n",
       "      <td>True</td>\n",
       "      <td>Lake Christinaport</td>\n",
       "      <td>2519996.0</td>\n",
       "    </tr>\n",
       "    <tr>\n",
       "      <th>3</th>\n",
       "      <td>2004</td>\n",
       "      <td>1</td>\n",
       "      <td>4</td>\n",
       "      <td>2</td>\n",
       "      <td>0</td>\n",
       "      <td>1829</td>\n",
       "      <td>2277</td>\n",
       "      <td>attached</td>\n",
       "      <td>479</td>\n",
       "      <td>0</td>\n",
       "      <td>True</td>\n",
       "      <td>False</td>\n",
       "      <td>True</td>\n",
       "      <td>True</td>\n",
       "      <td>Lake Christinaport</td>\n",
       "      <td>197193.0</td>\n",
       "    </tr>\n",
       "    <tr>\n",
       "      <th>4</th>\n",
       "      <td>2006</td>\n",
       "      <td>1</td>\n",
       "      <td>4</td>\n",
       "      <td>2</td>\n",
       "      <td>0</td>\n",
       "      <td>1580</td>\n",
       "      <td>1749</td>\n",
       "      <td>attached</td>\n",
       "      <td>430</td>\n",
       "      <td>0</td>\n",
       "      <td>True</td>\n",
       "      <td>False</td>\n",
       "      <td>True</td>\n",
       "      <td>True</td>\n",
       "      <td>Lake Christinaport</td>\n",
       "      <td>207897.0</td>\n",
       "    </tr>\n",
       "  </tbody>\n",
       "</table>\n",
       "</div>"
      ],
      "text/plain": [
       "   year_built  stories  num_bedrooms  full_bathrooms  half_bathrooms  \\\n",
       "0        1978        1             4               1               1   \n",
       "1        1958        1             3               1               1   \n",
       "2        2002        1             3               2               0   \n",
       "3        2004        1             4               2               0   \n",
       "4        2006        1             4               2               0   \n",
       "\n",
       "   livable_sqft  total_sqft garage_type  garage_sqft  carport_sqft  \\\n",
       "0          1689        1859    attached          508             0   \n",
       "1          1984        2002    attached          462             0   \n",
       "2          1581        1578        none            0           625   \n",
       "3          1829        2277    attached          479             0   \n",
       "4          1580        1749    attached          430             0   \n",
       "\n",
       "   has_fireplace  has_pool  has_central_heating  has_central_cooling  \\\n",
       "0           True     False                 True                 True   \n",
       "1           True     False                 True                 True   \n",
       "2          False     False                 True                 True   \n",
       "3           True     False                 True                 True   \n",
       "4           True     False                 True                 True   \n",
       "\n",
       "                 city  sale_price  \n",
       "0            Hallfort    270897.0  \n",
       "1            Hallfort    302404.0  \n",
       "2  Lake Christinaport   2519996.0  \n",
       "3  Lake Christinaport    197193.0  \n",
       "4  Lake Christinaport    207897.0  "
      ]
     },
     "execution_count": 6,
     "metadata": {},
     "output_type": "execute_result"
    }
   ],
   "source": [
    "#There are 4 columns that I will remove since i will not included it in my model\n",
    "house_df.drop(['house_number', 'street_name', 'unit_number','zip_code'], axis = 1, inplace=True)\n",
    "house_df.head()"
   ]
  },
  {
   "cell_type": "markdown",
   "metadata": {},
   "source": [
    "**Step 3:** Check for any duplicates"
   ]
  },
  {
   "cell_type": "code",
   "execution_count": 7,
   "metadata": {},
   "outputs": [
    {
     "data": {
      "text/plain": [
       "False    42703\n",
       "dtype: int64"
      ]
     },
     "execution_count": 7,
     "metadata": {},
     "output_type": "execute_result"
    }
   ],
   "source": [
    "house_df.duplicated().value_counts()"
   ]
  },
  {
   "cell_type": "markdown",
   "metadata": {},
   "source": [
    "no duplicates, so we're good to proceed"
   ]
  },
  {
   "cell_type": "markdown",
   "metadata": {},
   "source": [
    "**Step 4:** Check if the features columns need any preparation\n",
    "\n",
    "The columns with true and false values will be fine to use in my model since they'll be treated as one or zero automatically, so no extra work is needed to prepare it. \n"
   ]
  },
  {
   "cell_type": "markdown",
   "metadata": {},
   "source": [
    "**Numerical Variables:**\n",
    "\n"
   ]
  },
  {
   "cell_type": "code",
   "execution_count": 8,
   "metadata": {},
   "outputs": [
    {
     "name": "stdout",
     "output_type": "stream",
     "text": [
      "Number of numerical variables:  14\n"
     ]
    },
    {
     "data": {
      "text/html": [
       "<div>\n",
       "<style scoped>\n",
       "    .dataframe tbody tr th:only-of-type {\n",
       "        vertical-align: middle;\n",
       "    }\n",
       "\n",
       "    .dataframe tbody tr th {\n",
       "        vertical-align: top;\n",
       "    }\n",
       "\n",
       "    .dataframe thead th {\n",
       "        text-align: right;\n",
       "    }\n",
       "</style>\n",
       "<table border=\"1\" class=\"dataframe\">\n",
       "  <thead>\n",
       "    <tr style=\"text-align: right;\">\n",
       "      <th></th>\n",
       "      <th>year_built</th>\n",
       "      <th>stories</th>\n",
       "      <th>num_bedrooms</th>\n",
       "      <th>full_bathrooms</th>\n",
       "      <th>half_bathrooms</th>\n",
       "      <th>livable_sqft</th>\n",
       "      <th>total_sqft</th>\n",
       "      <th>garage_sqft</th>\n",
       "      <th>carport_sqft</th>\n",
       "      <th>has_fireplace</th>\n",
       "      <th>has_pool</th>\n",
       "      <th>has_central_heating</th>\n",
       "      <th>has_central_cooling</th>\n",
       "      <th>sale_price</th>\n",
       "    </tr>\n",
       "  </thead>\n",
       "  <tbody>\n",
       "    <tr>\n",
       "      <th>0</th>\n",
       "      <td>1978</td>\n",
       "      <td>1</td>\n",
       "      <td>4</td>\n",
       "      <td>1</td>\n",
       "      <td>1</td>\n",
       "      <td>1689</td>\n",
       "      <td>1859</td>\n",
       "      <td>508</td>\n",
       "      <td>0</td>\n",
       "      <td>True</td>\n",
       "      <td>False</td>\n",
       "      <td>True</td>\n",
       "      <td>True</td>\n",
       "      <td>270897.0</td>\n",
       "    </tr>\n",
       "    <tr>\n",
       "      <th>1</th>\n",
       "      <td>1958</td>\n",
       "      <td>1</td>\n",
       "      <td>3</td>\n",
       "      <td>1</td>\n",
       "      <td>1</td>\n",
       "      <td>1984</td>\n",
       "      <td>2002</td>\n",
       "      <td>462</td>\n",
       "      <td>0</td>\n",
       "      <td>True</td>\n",
       "      <td>False</td>\n",
       "      <td>True</td>\n",
       "      <td>True</td>\n",
       "      <td>302404.0</td>\n",
       "    </tr>\n",
       "    <tr>\n",
       "      <th>2</th>\n",
       "      <td>2002</td>\n",
       "      <td>1</td>\n",
       "      <td>3</td>\n",
       "      <td>2</td>\n",
       "      <td>0</td>\n",
       "      <td>1581</td>\n",
       "      <td>1578</td>\n",
       "      <td>0</td>\n",
       "      <td>625</td>\n",
       "      <td>False</td>\n",
       "      <td>False</td>\n",
       "      <td>True</td>\n",
       "      <td>True</td>\n",
       "      <td>2519996.0</td>\n",
       "    </tr>\n",
       "    <tr>\n",
       "      <th>3</th>\n",
       "      <td>2004</td>\n",
       "      <td>1</td>\n",
       "      <td>4</td>\n",
       "      <td>2</td>\n",
       "      <td>0</td>\n",
       "      <td>1829</td>\n",
       "      <td>2277</td>\n",
       "      <td>479</td>\n",
       "      <td>0</td>\n",
       "      <td>True</td>\n",
       "      <td>False</td>\n",
       "      <td>True</td>\n",
       "      <td>True</td>\n",
       "      <td>197193.0</td>\n",
       "    </tr>\n",
       "    <tr>\n",
       "      <th>4</th>\n",
       "      <td>2006</td>\n",
       "      <td>1</td>\n",
       "      <td>4</td>\n",
       "      <td>2</td>\n",
       "      <td>0</td>\n",
       "      <td>1580</td>\n",
       "      <td>1749</td>\n",
       "      <td>430</td>\n",
       "      <td>0</td>\n",
       "      <td>True</td>\n",
       "      <td>False</td>\n",
       "      <td>True</td>\n",
       "      <td>True</td>\n",
       "      <td>207897.0</td>\n",
       "    </tr>\n",
       "  </tbody>\n",
       "</table>\n",
       "</div>"
      ],
      "text/plain": [
       "   year_built  stories  num_bedrooms  full_bathrooms  half_bathrooms  \\\n",
       "0        1978        1             4               1               1   \n",
       "1        1958        1             3               1               1   \n",
       "2        2002        1             3               2               0   \n",
       "3        2004        1             4               2               0   \n",
       "4        2006        1             4               2               0   \n",
       "\n",
       "   livable_sqft  total_sqft  garage_sqft  carport_sqft  has_fireplace  \\\n",
       "0          1689        1859          508             0           True   \n",
       "1          1984        2002          462             0           True   \n",
       "2          1581        1578            0           625          False   \n",
       "3          1829        2277          479             0           True   \n",
       "4          1580        1749          430             0           True   \n",
       "\n",
       "   has_pool  has_central_heating  has_central_cooling  sale_price  \n",
       "0     False                 True                 True    270897.0  \n",
       "1     False                 True                 True    302404.0  \n",
       "2     False                 True                 True   2519996.0  \n",
       "3     False                 True                 True    197193.0  \n",
       "4     False                 True                 True    207897.0  "
      ]
     },
     "execution_count": 8,
     "metadata": {},
     "output_type": "execute_result"
    }
   ],
   "source": [
    "# list of numerical variables\n",
    "numerical_features = [feature for feature in house_df.columns if house_df[feature].dtypes != 'O']\n",
    "\n",
    "print('Number of numerical variables: ', len(numerical_features))\n",
    "\n",
    "# visualise the numerical variables\n",
    "house_df[numerical_features].head()"
   ]
  },
  {
   "cell_type": "markdown",
   "metadata": {},
   "source": [
    "Numerical variables are usually of 2 types: Continous variables and Discrete Variables\n",
    "\n",
    "Discrete Variable: a variable whose value is obtained by counting.\n",
    "\n",
    "Continuous Variable: a variable which can take an uncountable set of values or infinite set of values."
   ]
  },
  {
   "cell_type": "markdown",
   "metadata": {},
   "source": [
    "***Discrete Variables:***"
   ]
  },
  {
   "cell_type": "code",
   "execution_count": 11,
   "metadata": {},
   "outputs": [
    {
     "name": "stdout",
     "output_type": "stream",
     "text": [
      "Discrete Variables Count: 8\n"
     ]
    },
    {
     "data": {
      "text/plain": [
       "['stories',\n",
       " 'num_bedrooms',\n",
       " 'full_bathrooms',\n",
       " 'half_bathrooms',\n",
       " 'has_fireplace',\n",
       " 'has_pool',\n",
       " 'has_central_heating',\n",
       " 'has_central_cooling']"
      ]
     },
     "execution_count": 11,
     "metadata": {},
     "output_type": "execute_result"
    }
   ],
   "source": [
    "discrete_feature=[feature for feature in numerical_features if len(house_df[feature].unique())<25]\n",
    "print(\"Discrete Variables Count: {}\".format(len(discrete_feature)))\n",
    "discrete_feature"
   ]
  },
  {
   "cell_type": "code",
   "execution_count": 12,
   "metadata": {},
   "outputs": [
    {
     "data": {
      "text/html": [
       "<div>\n",
       "<style scoped>\n",
       "    .dataframe tbody tr th:only-of-type {\n",
       "        vertical-align: middle;\n",
       "    }\n",
       "\n",
       "    .dataframe tbody tr th {\n",
       "        vertical-align: top;\n",
       "    }\n",
       "\n",
       "    .dataframe thead th {\n",
       "        text-align: right;\n",
       "    }\n",
       "</style>\n",
       "<table border=\"1\" class=\"dataframe\">\n",
       "  <thead>\n",
       "    <tr style=\"text-align: right;\">\n",
       "      <th></th>\n",
       "      <th>stories</th>\n",
       "      <th>num_bedrooms</th>\n",
       "      <th>full_bathrooms</th>\n",
       "      <th>half_bathrooms</th>\n",
       "      <th>has_fireplace</th>\n",
       "      <th>has_pool</th>\n",
       "      <th>has_central_heating</th>\n",
       "      <th>has_central_cooling</th>\n",
       "    </tr>\n",
       "  </thead>\n",
       "  <tbody>\n",
       "    <tr>\n",
       "      <th>0</th>\n",
       "      <td>1</td>\n",
       "      <td>4</td>\n",
       "      <td>1</td>\n",
       "      <td>1</td>\n",
       "      <td>True</td>\n",
       "      <td>False</td>\n",
       "      <td>True</td>\n",
       "      <td>True</td>\n",
       "    </tr>\n",
       "    <tr>\n",
       "      <th>1</th>\n",
       "      <td>1</td>\n",
       "      <td>3</td>\n",
       "      <td>1</td>\n",
       "      <td>1</td>\n",
       "      <td>True</td>\n",
       "      <td>False</td>\n",
       "      <td>True</td>\n",
       "      <td>True</td>\n",
       "    </tr>\n",
       "    <tr>\n",
       "      <th>2</th>\n",
       "      <td>1</td>\n",
       "      <td>3</td>\n",
       "      <td>2</td>\n",
       "      <td>0</td>\n",
       "      <td>False</td>\n",
       "      <td>False</td>\n",
       "      <td>True</td>\n",
       "      <td>True</td>\n",
       "    </tr>\n",
       "    <tr>\n",
       "      <th>3</th>\n",
       "      <td>1</td>\n",
       "      <td>4</td>\n",
       "      <td>2</td>\n",
       "      <td>0</td>\n",
       "      <td>True</td>\n",
       "      <td>False</td>\n",
       "      <td>True</td>\n",
       "      <td>True</td>\n",
       "    </tr>\n",
       "    <tr>\n",
       "      <th>4</th>\n",
       "      <td>1</td>\n",
       "      <td>4</td>\n",
       "      <td>2</td>\n",
       "      <td>0</td>\n",
       "      <td>True</td>\n",
       "      <td>False</td>\n",
       "      <td>True</td>\n",
       "      <td>True</td>\n",
       "    </tr>\n",
       "  </tbody>\n",
       "</table>\n",
       "</div>"
      ],
      "text/plain": [
       "   stories  num_bedrooms  full_bathrooms  half_bathrooms  has_fireplace  \\\n",
       "0        1             4               1               1           True   \n",
       "1        1             3               1               1           True   \n",
       "2        1             3               2               0          False   \n",
       "3        1             4               2               0           True   \n",
       "4        1             4               2               0           True   \n",
       "\n",
       "   has_pool  has_central_heating  has_central_cooling  \n",
       "0     False                 True                 True  \n",
       "1     False                 True                 True  \n",
       "2     False                 True                 True  \n",
       "3     False                 True                 True  \n",
       "4     False                 True                 True  "
      ]
     },
     "execution_count": 12,
     "metadata": {},
     "output_type": "execute_result"
    }
   ],
   "source": [
    "house_df[discrete_feature].head()"
   ]
  },
  {
   "cell_type": "code",
   "execution_count": 14,
   "metadata": {
    "scrolled": false
   },
   "outputs": [
    {
     "data": {
      "image/png": "[encoded data removed]",
      "text/plain": [
       "<Figure size 432x288 with 1 Axes>"
      ]
     },
     "metadata": {
      "needs_background": "light"
     },
     "output_type": "display_data"
    },
    {
     "data": {
      "image/png": "[encoded data removed]",
      "text/plain": [
       "<Figure size 432x288 with 1 Axes>"
      ]
     },
     "metadata": {
      "needs_background": "light"
     },
     "output_type": "display_data"
    },
    {
     "data": {
      "image/png": "[encoded data removed]",
      "text/plain": [
       "<Figure size 432x288 with 1 Axes>"
      ]
     },
     "metadata": {
      "needs_background": "light"
     },
     "output_type": "display_data"
    },
    {
     "data": {
      "image/png": "[encoded data removed]",
      "text/plain": [
       "<Figure size 432x288 with 1 Axes>"
      ]
     },
     "metadata": {
      "needs_background": "light"
     },
     "output_type": "display_data"
    },
    {
     "data": {
      "image/png": "[encoded data removed]",
      "text/plain": [
       "<Figure size 432x288 with 1 Axes>"
      ]
     },
     "metadata": {
      "needs_background": "light"
     },
     "output_type": "display_data"
    },
    {
     "data": {
      "image/png": "[encoded data removed]",
      "text/plain": [
       "<Figure size 432x288 with 1 Axes>"
      ]
     },
     "metadata": {
      "needs_background": "light"
     },
     "output_type": "display_data"
    },
    {
     "data": {
      "image/png": "[encoded data removed]",
      "text/plain": [
       "<Figure size 432x288 with 1 Axes>"
      ]
     },
     "metadata": {
      "needs_background": "light"
     },
     "output_type": "display_data"
    },
    {
     "data": {
      "image/png": "[encoded data removed]",
      "text/plain": [
       "<Figure size 432x288 with 1 Axes>"
      ]
     },
     "metadata": {
      "needs_background": "light"
     },
     "output_type": "display_data"
    }
   ],
   "source": [
    "## Lets Find the realtionship between them and Sale PRice\n",
    "\n",
    "for feature in discrete_feature:\n",
    "    data=house_df.copy()\n",
    "    data.groupby(feature)['sale_price'].median().plot.bar(color='mediumseagreen')\n",
    "    plt.xlabel(feature)\n",
    "    plt.ylabel('sale_price')\n",
    "    plt.title(feature)\n",
    "    plt.show()"
   ]
  },
  {
   "cell_type": "markdown",
   "metadata": {},
   "source": [
    "***Continuous Variables:***"
   ]
  },
  {
   "cell_type": "code",
   "execution_count": 16,
   "metadata": {},
   "outputs": [
    {
     "name": "stdout",
     "output_type": "stream",
     "text": [
      "Continuous feature Count 6\n"
     ]
    },
    {
     "data": {
      "text/html": [
       "<div>\n",
       "<style scoped>\n",
       "    .dataframe tbody tr th:only-of-type {\n",
       "        vertical-align: middle;\n",
       "    }\n",
       "\n",
       "    .dataframe tbody tr th {\n",
       "        vertical-align: top;\n",
       "    }\n",
       "\n",
       "    .dataframe thead th {\n",
       "        text-align: right;\n",
       "    }\n",
       "</style>\n",
       "<table border=\"1\" class=\"dataframe\">\n",
       "  <thead>\n",
       "    <tr style=\"text-align: right;\">\n",
       "      <th></th>\n",
       "      <th>year_built</th>\n",
       "      <th>livable_sqft</th>\n",
       "      <th>total_sqft</th>\n",
       "      <th>garage_sqft</th>\n",
       "      <th>carport_sqft</th>\n",
       "      <th>sale_price</th>\n",
       "    </tr>\n",
       "  </thead>\n",
       "  <tbody>\n",
       "    <tr>\n",
       "      <th>0</th>\n",
       "      <td>1978</td>\n",
       "      <td>1689</td>\n",
       "      <td>1859</td>\n",
       "      <td>508</td>\n",
       "      <td>0</td>\n",
       "      <td>270897.0</td>\n",
       "    </tr>\n",
       "    <tr>\n",
       "      <th>1</th>\n",
       "      <td>1958</td>\n",
       "      <td>1984</td>\n",
       "      <td>2002</td>\n",
       "      <td>462</td>\n",
       "      <td>0</td>\n",
       "      <td>302404.0</td>\n",
       "    </tr>\n",
       "    <tr>\n",
       "      <th>2</th>\n",
       "      <td>2002</td>\n",
       "      <td>1581</td>\n",
       "      <td>1578</td>\n",
       "      <td>0</td>\n",
       "      <td>625</td>\n",
       "      <td>2519996.0</td>\n",
       "    </tr>\n",
       "    <tr>\n",
       "      <th>3</th>\n",
       "      <td>2004</td>\n",
       "      <td>1829</td>\n",
       "      <td>2277</td>\n",
       "      <td>479</td>\n",
       "      <td>0</td>\n",
       "      <td>197193.0</td>\n",
       "    </tr>\n",
       "    <tr>\n",
       "      <th>4</th>\n",
       "      <td>2006</td>\n",
       "      <td>1580</td>\n",
       "      <td>1749</td>\n",
       "      <td>430</td>\n",
       "      <td>0</td>\n",
       "      <td>207897.0</td>\n",
       "    </tr>\n",
       "  </tbody>\n",
       "</table>\n",
       "</div>"
      ],
      "text/plain": [
       "   year_built  livable_sqft  total_sqft  garage_sqft  carport_sqft  sale_price\n",
       "0        1978          1689        1859          508             0    270897.0\n",
       "1        1958          1984        2002          462             0    302404.0\n",
       "2        2002          1581        1578            0           625   2519996.0\n",
       "3        2004          1829        2277          479             0    197193.0\n",
       "4        2006          1580        1749          430             0    207897.0"
      ]
     },
     "execution_count": 16,
     "metadata": {},
     "output_type": "execute_result"
    }
   ],
   "source": [
    "continuous_feature=[feature for feature in numerical_features if feature not in discrete_feature]\n",
    "print(\"Continuous feature Count {}\".format(len(continuous_feature)))\n",
    "house_df[continuous_feature].head()"
   ]
  },
  {
   "cell_type": "code",
   "execution_count": 22,
   "metadata": {
    "scrolled": false
   },
   "outputs": [
    {
     "data": {
      "image/png": "[encoded data removed]",
      "text/plain": [
       "<Figure size 432x288 with 1 Axes>"
      ]
     },
     "metadata": {
      "needs_background": "light"
     },
     "output_type": "display_data"
    },
    {
     "data": {
      "image/png": "[encoded data removed]",
      "text/plain": [
       "<Figure size 432x288 with 1 Axes>"
      ]
     },
     "metadata": {
      "needs_background": "light"
     },
     "output_type": "display_data"
    },
    {
     "data": {
      "image/png": "[encoded data removed]",
      "text/plain": [
       "<Figure size 432x288 with 1 Axes>"
      ]
     },
     "metadata": {
      "needs_background": "light"
     },
     "output_type": "display_data"
    },
    {
     "data": {
      "image/png": "[encoded data removed]",
      "text/plain": [
       "<Figure size 432x288 with 1 Axes>"
      ]
     },
     "metadata": {
      "needs_background": "light"
     },
     "output_type": "display_data"
    },
    {
     "data": {
      "image/png": "[encoded data removed]",
      "text/plain": [
       "<Figure size 432x288 with 1 Axes>"
      ]
     },
     "metadata": {
      "needs_background": "light"
     },
     "output_type": "display_data"
    },
    {
     "data": {
      "image/png": "[encoded data removed]",
      "text/plain": [
       "<Figure size 432x288 with 1 Axes>"
      ]
     },
     "metadata": {
      "needs_background": "light"
     },
     "output_type": "display_data"
    }
   ],
   "source": [
    "## Lets analyse the continuous values by creating histograms to understand the distribution\n",
    "\n",
    "for feature in continuous_feature:\n",
    "    data=house_df.copy()\n",
    "    data[feature].hist(bins=25, color='mediumseagreen')\n",
    "    plt.xlabel(feature)\n",
    "    plt.ylabel(\"Count\")\n",
    "    plt.title(feature)\n",
    "    plt.show()\n",
    "\n",
    "\n",
    "\n"
   ]
  },
  {
   "cell_type": "code",
   "execution_count": 23,
   "metadata": {},
   "outputs": [
    {
     "data": {
      "image/png": "[encoded data removed]",
      "text/plain": [
       "<Figure size 432x288 with 1 Axes>"
      ]
     },
     "metadata": {
      "needs_background": "light"
     },
     "output_type": "display_data"
    },
    {
     "data": {
      "image/png": "[encoded data removed]",
      "text/plain": [
       "<Figure size 432x288 with 1 Axes>"
      ]
     },
     "metadata": {
      "needs_background": "light"
     },
     "output_type": "display_data"
    },
    {
     "data": {
      "image/png": "[encoded data removed]",
      "text/plain": [
       "<Figure size 432x288 with 1 Axes>"
      ]
     },
     "metadata": {
      "needs_background": "light"
     },
     "output_type": "display_data"
    },
    {
     "data": {
      "image/png": "[encoded data removed]",
      "text/plain": [
       "<Figure size 432x288 with 1 Axes>"
      ]
     },
     "metadata": {
      "needs_background": "light"
     },
     "output_type": "display_data"
    }
   ],
   "source": [
    "for feature in continuous_feature:\n",
    "    data=house_df.copy()\n",
    "    if 0 in data[feature].unique():\n",
    "        pass\n",
    "    else:\n",
    "        data[feature]=np.log(data[feature])\n",
    "        data[\"sale_price\"]=np.log(data[\"sale_price\"])\n",
    "        plt.scatter(data[feature],data[\"sale_price\"],color='mediumseagreen')\n",
    "        plt.xlabel(feature)\n",
    "        plt.ylabel('SalesPrice')\n",
    "        plt.title(feature)\n",
    "        plt.show()"
   ]
  },
  {
   "cell_type": "markdown",
   "metadata": {},
   "source": [
    "**Categorical Variables**:\n",
    "\n",
    "I will use one-hot encoding to the columns with categorical values in order to use it in my model: the garage_type and city. One-Hot Encoding is the process of creating dummy variables for categorical variables. For every categorical feature, a new numerical variable is created."
   ]
  },
  {
   "cell_type": "code",
   "execution_count": 29,
   "metadata": {},
   "outputs": [
    {
     "name": "stdout",
     "output_type": "stream",
     "text": [
      "['garage_type', 'city']\n",
      "The feature is garage_type and number of categories are 3\n",
      "The feature is city and number of categories are 47\n"
     ]
    }
   ],
   "source": [
    "categorical_features=[feature for feature in house_df.columns if data[feature].dtypes=='O']\n",
    "print(categorical_features)\n",
    "\n",
    "for feature in categorical_features:\n",
    "    print('The feature is {} and number of categories are {}'.format(feature,len(house_df[feature].unique())))"
   ]
  },
  {
   "cell_type": "code",
   "execution_count": 30,
   "metadata": {},
   "outputs": [
    {
     "data": {
      "text/plain": [
       "Chadstad                4962\n",
       "Coletown                3739\n",
       "Jeffreyhaven            2981\n",
       "North Erinville         2868\n",
       "Port Andrealand         2669\n",
       "Hallfort                2448\n",
       "Lewishaven              2271\n",
       "South Anthony           1849\n",
       "Lake Jack               1831\n",
       "Davidfort               1703\n",
       "Lake Dariusborough      1441\n",
       "West Ann                1397\n",
       "East Lucas              1359\n",
       "Port Jonathanborough    1344\n",
       "Scottberg               1009\n",
       "Lake Christinaport       833\n",
       "East Amychester          792\n",
       "Joshuafurt               745\n",
       "West Lydia               709\n",
       "Morrisport               654\n",
       "Lake Carolyn             637\n",
       "West Gregoryview         615\n",
       "Wendybury                587\n",
       "Amystad                  561\n",
       "Port Adamtown            416\n",
       "Richardport              297\n",
       "Jenniferberg             275\n",
       "Justinport               272\n",
       "East Janiceville         248\n",
       "Brownport                209\n",
       "Clarkberg                174\n",
       "West Gerald              151\n",
       "West Brittanyview        120\n",
       "East Justin              112\n",
       "West Terrence            107\n",
       "Lake Jennifer             83\n",
       "South Stevenfurt          53\n",
       "Port Daniel               52\n",
       "Leahview                  27\n",
       "Toddshire                 27\n",
       "Fosterberg                26\n",
       "Davidtown                 18\n",
       "Rickytown                 14\n",
       "Martinezfort               9\n",
       "Julieberg                  6\n",
       "New Michele                2\n",
       "New Robinton               1\n",
       "Name: city, dtype: int64"
      ]
     },
     "execution_count": 30,
     "metadata": {},
     "output_type": "execute_result"
    }
   ],
   "source": [
    "house_df['city'].value_counts()"
   ]
  },
  {
   "cell_type": "code",
   "execution_count": 31,
   "metadata": {},
   "outputs": [
    {
     "data": {
      "text/plain": [
       "attached    34079\n",
       "none         5912\n",
       "detached     2712\n",
       "Name: garage_type, dtype: int64"
      ]
     },
     "execution_count": 31,
     "metadata": {},
     "output_type": "execute_result"
    }
   ],
   "source": [
    "house_df['garage_type'].value_counts()"
   ]
  },
  {
   "cell_type": "code",
   "execution_count": 34,
   "metadata": {},
   "outputs": [
    {
     "data": {
      "image/png": "[encoded data removed]",
      "text/plain": [
       "<Figure size 432x288 with 1 Axes>"
      ]
     },
     "metadata": {
      "needs_background": "light"
     },
     "output_type": "display_data"
    },
    {
     "data": {
      "image/png": "[encoded data removed]",
      "text/plain": [
       "<Figure size 432x288 with 1 Axes>"
      ]
     },
     "metadata": {
      "needs_background": "light"
     },
     "output_type": "display_data"
    }
   ],
   "source": [
    "for feature in categorical_features:\n",
    "    data=house_df.copy()\n",
    "    data.groupby(feature)[\"sale_price\"].median().plot.bar(color='mediumseagreen')\n",
    "    plt.xlabel(feature)\n",
    "    plt.ylabel(\"sale_price\")\n",
    "    plt.title(feature)\n",
    "    plt.show()"
   ]
  },
  {
   "cell_type": "code",
   "execution_count": 35,
   "metadata": {},
   "outputs": [
    {
     "name": "stderr",
     "output_type": "stream",
     "text": [
      "<ipython-input-35-5bafb39adb8e>:5: UserWarning: FixedFormatter should only be used together with FixedLocator\n",
      "  plt.gca().set_yticklabels(['{:,.0f}'.format(x) for x in current_values])\n"
     ]
    },
    {
     "data": {
      "image/png": "[encoded data removed]",
      "text/plain": [
       "<Figure size 1224x504 with 1 Axes>"
      ]
     },
     "metadata": {
      "needs_background": "light"
     },
     "output_type": "display_data"
    }
   ],
   "source": [
    "fig, ax = plt.subplots(figsize=(17,7))\n",
    "house_df.groupby(\"city\").median().plot.bar(y=\"sale_price\", ax=ax, color='mediumseagreen');\n",
    "# format the y label 1e6\n",
    "current_values = plt.gca().get_yticks()\n",
    "plt.gca().set_yticklabels(['{:,.0f}'.format(x) for x in current_values])\n",
    "\n",
    "plt.xticks(rotation=60)\n",
    "plt.title('House Sale Prices by City', fontsize=16)\n",
    "plt.ylabel('House Prices in USD')\n",
    "plt.tight_layout()\n",
    "plt.show()"
   ]
  },
  {
   "cell_type": "markdown",
   "metadata": {},
   "source": [
    "I will now do one-hot encoding to the categorical variables so I can use it in my model"
   ]
  },
  {
   "cell_type": "code",
   "execution_count": 36,
   "metadata": {},
   "outputs": [
    {
     "data": {
      "text/html": [
       "<div>\n",
       "<style scoped>\n",
       "    .dataframe tbody tr th:only-of-type {\n",
       "        vertical-align: middle;\n",
       "    }\n",
       "\n",
       "    .dataframe tbody tr th {\n",
       "        vertical-align: top;\n",
       "    }\n",
       "\n",
       "    .dataframe thead th {\n",
       "        text-align: right;\n",
       "    }\n",
       "</style>\n",
       "<table border=\"1\" class=\"dataframe\">\n",
       "  <thead>\n",
       "    <tr style=\"text-align: right;\">\n",
       "      <th></th>\n",
       "      <th>year_built</th>\n",
       "      <th>stories</th>\n",
       "      <th>num_bedrooms</th>\n",
       "      <th>full_bathrooms</th>\n",
       "      <th>half_bathrooms</th>\n",
       "      <th>livable_sqft</th>\n",
       "      <th>total_sqft</th>\n",
       "      <th>garage_sqft</th>\n",
       "      <th>carport_sqft</th>\n",
       "      <th>has_fireplace</th>\n",
       "      <th>...</th>\n",
       "      <th>city_South Anthony</th>\n",
       "      <th>city_South Stevenfurt</th>\n",
       "      <th>city_Toddshire</th>\n",
       "      <th>city_Wendybury</th>\n",
       "      <th>city_West Ann</th>\n",
       "      <th>city_West Brittanyview</th>\n",
       "      <th>city_West Gerald</th>\n",
       "      <th>city_West Gregoryview</th>\n",
       "      <th>city_West Lydia</th>\n",
       "      <th>city_West Terrence</th>\n",
       "    </tr>\n",
       "  </thead>\n",
       "  <tbody>\n",
       "    <tr>\n",
       "      <th>0</th>\n",
       "      <td>1978</td>\n",
       "      <td>1</td>\n",
       "      <td>4</td>\n",
       "      <td>1</td>\n",
       "      <td>1</td>\n",
       "      <td>1689</td>\n",
       "      <td>1859</td>\n",
       "      <td>508</td>\n",
       "      <td>0</td>\n",
       "      <td>True</td>\n",
       "      <td>...</td>\n",
       "      <td>0</td>\n",
       "      <td>0</td>\n",
       "      <td>0</td>\n",
       "      <td>0</td>\n",
       "      <td>0</td>\n",
       "      <td>0</td>\n",
       "      <td>0</td>\n",
       "      <td>0</td>\n",
       "      <td>0</td>\n",
       "      <td>0</td>\n",
       "    </tr>\n",
       "    <tr>\n",
       "      <th>1</th>\n",
       "      <td>1958</td>\n",
       "      <td>1</td>\n",
       "      <td>3</td>\n",
       "      <td>1</td>\n",
       "      <td>1</td>\n",
       "      <td>1984</td>\n",
       "      <td>2002</td>\n",
       "      <td>462</td>\n",
       "      <td>0</td>\n",
       "      <td>True</td>\n",
       "      <td>...</td>\n",
       "      <td>0</td>\n",
       "      <td>0</td>\n",
       "      <td>0</td>\n",
       "      <td>0</td>\n",
       "      <td>0</td>\n",
       "      <td>0</td>\n",
       "      <td>0</td>\n",
       "      <td>0</td>\n",
       "      <td>0</td>\n",
       "      <td>0</td>\n",
       "    </tr>\n",
       "    <tr>\n",
       "      <th>2</th>\n",
       "      <td>2002</td>\n",
       "      <td>1</td>\n",
       "      <td>3</td>\n",
       "      <td>2</td>\n",
       "      <td>0</td>\n",
       "      <td>1581</td>\n",
       "      <td>1578</td>\n",
       "      <td>0</td>\n",
       "      <td>625</td>\n",
       "      <td>False</td>\n",
       "      <td>...</td>\n",
       "      <td>0</td>\n",
       "      <td>0</td>\n",
       "      <td>0</td>\n",
       "      <td>0</td>\n",
       "      <td>0</td>\n",
       "      <td>0</td>\n",
       "      <td>0</td>\n",
       "      <td>0</td>\n",
       "      <td>0</td>\n",
       "      <td>0</td>\n",
       "    </tr>\n",
       "    <tr>\n",
       "      <th>3</th>\n",
       "      <td>2004</td>\n",
       "      <td>1</td>\n",
       "      <td>4</td>\n",
       "      <td>2</td>\n",
       "      <td>0</td>\n",
       "      <td>1829</td>\n",
       "      <td>2277</td>\n",
       "      <td>479</td>\n",
       "      <td>0</td>\n",
       "      <td>True</td>\n",
       "      <td>...</td>\n",
       "      <td>0</td>\n",
       "      <td>0</td>\n",
       "      <td>0</td>\n",
       "      <td>0</td>\n",
       "      <td>0</td>\n",
       "      <td>0</td>\n",
       "      <td>0</td>\n",
       "      <td>0</td>\n",
       "      <td>0</td>\n",
       "      <td>0</td>\n",
       "    </tr>\n",
       "    <tr>\n",
       "      <th>4</th>\n",
       "      <td>2006</td>\n",
       "      <td>1</td>\n",
       "      <td>4</td>\n",
       "      <td>2</td>\n",
       "      <td>0</td>\n",
       "      <td>1580</td>\n",
       "      <td>1749</td>\n",
       "      <td>430</td>\n",
       "      <td>0</td>\n",
       "      <td>True</td>\n",
       "      <td>...</td>\n",
       "      <td>0</td>\n",
       "      <td>0</td>\n",
       "      <td>0</td>\n",
       "      <td>0</td>\n",
       "      <td>0</td>\n",
       "      <td>0</td>\n",
       "      <td>0</td>\n",
       "      <td>0</td>\n",
       "      <td>0</td>\n",
       "      <td>0</td>\n",
       "    </tr>\n",
       "    <tr>\n",
       "      <th>...</th>\n",
       "      <td>...</td>\n",
       "      <td>...</td>\n",
       "      <td>...</td>\n",
       "      <td>...</td>\n",
       "      <td>...</td>\n",
       "      <td>...</td>\n",
       "      <td>...</td>\n",
       "      <td>...</td>\n",
       "      <td>...</td>\n",
       "      <td>...</td>\n",
       "      <td>...</td>\n",
       "      <td>...</td>\n",
       "      <td>...</td>\n",
       "      <td>...</td>\n",
       "      <td>...</td>\n",
       "      <td>...</td>\n",
       "      <td>...</td>\n",
       "      <td>...</td>\n",
       "      <td>...</td>\n",
       "      <td>...</td>\n",
       "      <td>...</td>\n",
       "    </tr>\n",
       "    <tr>\n",
       "      <th>42698</th>\n",
       "      <td>1982</td>\n",
       "      <td>1</td>\n",
       "      <td>1</td>\n",
       "      <td>1</td>\n",
       "      <td>0</td>\n",
       "      <td>591</td>\n",
       "      <td>627</td>\n",
       "      <td>0</td>\n",
       "      <td>200</td>\n",
       "      <td>False</td>\n",
       "      <td>...</td>\n",
       "      <td>0</td>\n",
       "      <td>0</td>\n",
       "      <td>0</td>\n",
       "      <td>0</td>\n",
       "      <td>0</td>\n",
       "      <td>0</td>\n",
       "      <td>0</td>\n",
       "      <td>0</td>\n",
       "      <td>0</td>\n",
       "      <td>0</td>\n",
       "    </tr>\n",
       "    <tr>\n",
       "      <th>42699</th>\n",
       "      <td>1983</td>\n",
       "      <td>1</td>\n",
       "      <td>1</td>\n",
       "      <td>1</td>\n",
       "      <td>0</td>\n",
       "      <td>592</td>\n",
       "      <td>624</td>\n",
       "      <td>0</td>\n",
       "      <td>204</td>\n",
       "      <td>False</td>\n",
       "      <td>...</td>\n",
       "      <td>0</td>\n",
       "      <td>0</td>\n",
       "      <td>0</td>\n",
       "      <td>0</td>\n",
       "      <td>0</td>\n",
       "      <td>0</td>\n",
       "      <td>0</td>\n",
       "      <td>0</td>\n",
       "      <td>0</td>\n",
       "      <td>0</td>\n",
       "    </tr>\n",
       "    <tr>\n",
       "      <th>42700</th>\n",
       "      <td>1983</td>\n",
       "      <td>1</td>\n",
       "      <td>1</td>\n",
       "      <td>1</td>\n",
       "      <td>0</td>\n",
       "      <td>594</td>\n",
       "      <td>618</td>\n",
       "      <td>0</td>\n",
       "      <td>197</td>\n",
       "      <td>False</td>\n",
       "      <td>...</td>\n",
       "      <td>0</td>\n",
       "      <td>0</td>\n",
       "      <td>0</td>\n",
       "      <td>0</td>\n",
       "      <td>0</td>\n",
       "      <td>0</td>\n",
       "      <td>0</td>\n",
       "      <td>0</td>\n",
       "      <td>0</td>\n",
       "      <td>0</td>\n",
       "    </tr>\n",
       "    <tr>\n",
       "      <th>42701</th>\n",
       "      <td>1981</td>\n",
       "      <td>1</td>\n",
       "      <td>3</td>\n",
       "      <td>2</td>\n",
       "      <td>0</td>\n",
       "      <td>1398</td>\n",
       "      <td>1401</td>\n",
       "      <td>401</td>\n",
       "      <td>0</td>\n",
       "      <td>False</td>\n",
       "      <td>...</td>\n",
       "      <td>0</td>\n",
       "      <td>0</td>\n",
       "      <td>0</td>\n",
       "      <td>0</td>\n",
       "      <td>0</td>\n",
       "      <td>0</td>\n",
       "      <td>0</td>\n",
       "      <td>0</td>\n",
       "      <td>0</td>\n",
       "      <td>0</td>\n",
       "    </tr>\n",
       "    <tr>\n",
       "      <th>42702</th>\n",
       "      <td>1980</td>\n",
       "      <td>1</td>\n",
       "      <td>3</td>\n",
       "      <td>2</td>\n",
       "      <td>0</td>\n",
       "      <td>1401</td>\n",
       "      <td>1406</td>\n",
       "      <td>396</td>\n",
       "      <td>0</td>\n",
       "      <td>False</td>\n",
       "      <td>...</td>\n",
       "      <td>0</td>\n",
       "      <td>0</td>\n",
       "      <td>0</td>\n",
       "      <td>0</td>\n",
       "      <td>0</td>\n",
       "      <td>0</td>\n",
       "      <td>0</td>\n",
       "      <td>0</td>\n",
       "      <td>0</td>\n",
       "      <td>0</td>\n",
       "    </tr>\n",
       "  </tbody>\n",
       "</table>\n",
       "<p>42703 rows × 64 columns</p>\n",
       "</div>"
      ],
      "text/plain": [
       "       year_built  stories  num_bedrooms  full_bathrooms  half_bathrooms  \\\n",
       "0            1978        1             4               1               1   \n",
       "1            1958        1             3               1               1   \n",
       "2            2002        1             3               2               0   \n",
       "3            2004        1             4               2               0   \n",
       "4            2006        1             4               2               0   \n",
       "...           ...      ...           ...             ...             ...   \n",
       "42698        1982        1             1               1               0   \n",
       "42699        1983        1             1               1               0   \n",
       "42700        1983        1             1               1               0   \n",
       "42701        1981        1             3               2               0   \n",
       "42702        1980        1             3               2               0   \n",
       "\n",
       "       livable_sqft  total_sqft  garage_sqft  carport_sqft  has_fireplace  \\\n",
       "0              1689        1859          508             0           True   \n",
       "1              1984        2002          462             0           True   \n",
       "2              1581        1578            0           625          False   \n",
       "3              1829        2277          479             0           True   \n",
       "4              1580        1749          430             0           True   \n",
       "...             ...         ...          ...           ...            ...   \n",
       "42698           591         627            0           200          False   \n",
       "42699           592         624            0           204          False   \n",
       "42700           594         618            0           197          False   \n",
       "42701          1398        1401          401             0          False   \n",
       "42702          1401        1406          396             0          False   \n",
       "\n",
       "       ...  city_South Anthony  city_South Stevenfurt  city_Toddshire  \\\n",
       "0      ...                   0                      0               0   \n",
       "1      ...                   0                      0               0   \n",
       "2      ...                   0                      0               0   \n",
       "3      ...                   0                      0               0   \n",
       "4      ...                   0                      0               0   \n",
       "...    ...                 ...                    ...             ...   \n",
       "42698  ...                   0                      0               0   \n",
       "42699  ...                   0                      0               0   \n",
       "42700  ...                   0                      0               0   \n",
       "42701  ...                   0                      0               0   \n",
       "42702  ...                   0                      0               0   \n",
       "\n",
       "       city_Wendybury  city_West Ann  city_West Brittanyview  \\\n",
       "0                   0              0                       0   \n",
       "1                   0              0                       0   \n",
       "2                   0              0                       0   \n",
       "3                   0              0                       0   \n",
       "4                   0              0                       0   \n",
       "...               ...            ...                     ...   \n",
       "42698               0              0                       0   \n",
       "42699               0              0                       0   \n",
       "42700               0              0                       0   \n",
       "42701               0              0                       0   \n",
       "42702               0              0                       0   \n",
       "\n",
       "       city_West Gerald  city_West Gregoryview  city_West Lydia  \\\n",
       "0                     0                      0                0   \n",
       "1                     0                      0                0   \n",
       "2                     0                      0                0   \n",
       "3                     0                      0                0   \n",
       "4                     0                      0                0   \n",
       "...                 ...                    ...              ...   \n",
       "42698                 0                      0                0   \n",
       "42699                 0                      0                0   \n",
       "42700                 0                      0                0   \n",
       "42701                 0                      0                0   \n",
       "42702                 0                      0                0   \n",
       "\n",
       "       city_West Terrence  \n",
       "0                       0  \n",
       "1                       0  \n",
       "2                       0  \n",
       "3                       0  \n",
       "4                       0  \n",
       "...                   ...  \n",
       "42698                   0  \n",
       "42699                   0  \n",
       "42700                   0  \n",
       "42701                   0  \n",
       "42702                   0  \n",
       "\n",
       "[42703 rows x 64 columns]"
      ]
     },
     "execution_count": 36,
     "metadata": {},
     "output_type": "execute_result"
    }
   ],
   "source": [
    "# Replace categorical data with one-hot encoded data\n",
    "features_df = pd.get_dummies(house_df, columns=['garage_type', 'city'])\n",
    "features_df"
   ]
  },
  {
   "cell_type": "code",
   "execution_count": 37,
   "metadata": {},
   "outputs": [
    {
     "data": {
      "text/plain": [
       "Index(['year_built', 'stories', 'num_bedrooms', 'full_bathrooms',\n",
       "       'half_bathrooms', 'livable_sqft', 'total_sqft', 'garage_sqft',\n",
       "       'carport_sqft', 'has_fireplace', 'has_pool', 'has_central_heating',\n",
       "       'has_central_cooling', 'sale_price', 'garage_type_attached',\n",
       "       'garage_type_detached', 'garage_type_none', 'city_Amystad',\n",
       "       'city_Brownport', 'city_Chadstad', 'city_Clarkberg', 'city_Coletown',\n",
       "       'city_Davidfort', 'city_Davidtown', 'city_East Amychester',\n",
       "       'city_East Janiceville', 'city_East Justin', 'city_East Lucas',\n",
       "       'city_Fosterberg', 'city_Hallfort', 'city_Jeffreyhaven',\n",
       "       'city_Jenniferberg', 'city_Joshuafurt', 'city_Julieberg',\n",
       "       'city_Justinport', 'city_Lake Carolyn', 'city_Lake Christinaport',\n",
       "       'city_Lake Dariusborough', 'city_Lake Jack', 'city_Lake Jennifer',\n",
       "       'city_Leahview', 'city_Lewishaven', 'city_Martinezfort',\n",
       "       'city_Morrisport', 'city_New Michele', 'city_New Robinton',\n",
       "       'city_North Erinville', 'city_Port Adamtown', 'city_Port Andrealand',\n",
       "       'city_Port Daniel', 'city_Port Jonathanborough', 'city_Richardport',\n",
       "       'city_Rickytown', 'city_Scottberg', 'city_South Anthony',\n",
       "       'city_South Stevenfurt', 'city_Toddshire', 'city_Wendybury',\n",
       "       'city_West Ann', 'city_West Brittanyview', 'city_West Gerald',\n",
       "       'city_West Gregoryview', 'city_West Lydia', 'city_West Terrence'],\n",
       "      dtype='object')"
      ]
     },
     "execution_count": 37,
     "metadata": {},
     "output_type": "execute_result"
    }
   ],
   "source": [
    "features_df.columns"
   ]
  },
  {
   "cell_type": "markdown",
   "metadata": {},
   "source": [
    "The target variable that I'm trying to predict is the house's sale price. the different features in my data set will be utilized as the predictors of the target variable.\n",
    "\n",
    "Therefore, I will need to separate the sale price column from the features data frame so the ML model doesn't see the sale price in the input data."
   ]
  },
  {
   "cell_type": "code",
   "execution_count": 39,
   "metadata": {},
   "outputs": [
    {
     "data": {
      "text/plain": [
       "Index(['year_built', 'stories', 'num_bedrooms', 'full_bathrooms',\n",
       "       'half_bathrooms', 'livable_sqft', 'total_sqft', 'garage_sqft',\n",
       "       'carport_sqft', 'has_fireplace', 'has_pool', 'has_central_heating',\n",
       "       'has_central_cooling', 'garage_type_attached', 'garage_type_detached',\n",
       "       'garage_type_none', 'city_Amystad', 'city_Brownport', 'city_Chadstad',\n",
       "       'city_Clarkberg', 'city_Coletown', 'city_Davidfort', 'city_Davidtown',\n",
       "       'city_East Amychester', 'city_East Janiceville', 'city_East Justin',\n",
       "       'city_East Lucas', 'city_Fosterberg', 'city_Hallfort',\n",
       "       'city_Jeffreyhaven', 'city_Jenniferberg', 'city_Joshuafurt',\n",
       "       'city_Julieberg', 'city_Justinport', 'city_Lake Carolyn',\n",
       "       'city_Lake Christinaport', 'city_Lake Dariusborough', 'city_Lake Jack',\n",
       "       'city_Lake Jennifer', 'city_Leahview', 'city_Lewishaven',\n",
       "       'city_Martinezfort', 'city_Morrisport', 'city_New Michele',\n",
       "       'city_New Robinton', 'city_North Erinville', 'city_Port Adamtown',\n",
       "       'city_Port Andrealand', 'city_Port Daniel', 'city_Port Jonathanborough',\n",
       "       'city_Richardport', 'city_Rickytown', 'city_Scottberg',\n",
       "       'city_South Anthony', 'city_South Stevenfurt', 'city_Toddshire',\n",
       "       'city_Wendybury', 'city_West Ann', 'city_West Brittanyview',\n",
       "       'city_West Gerald', 'city_West Gregoryview', 'city_West Lydia',\n",
       "       'city_West Terrence'],\n",
       "      dtype='object')"
      ]
     },
     "execution_count": 39,
     "metadata": {},
     "output_type": "execute_result"
    }
   ],
   "source": [
    "# Remove the sale price from the feature data\n",
    "features_df.drop(['sale_price'], axis = 1, inplace=True)\n",
    "features_df.columns"
   ]
  },
  {
   "cell_type": "markdown",
   "metadata": {},
   "source": [
    "I will create X and y arrays. \n",
    "\n",
    "X to represent the input features (house features, indepedent variables)\n",
    "\n",
    "y to represent the expected output to predict (house sale price, dependent variable)"
   ]
  },
  {
   "cell_type": "markdown",
   "metadata": {},
   "source": [
    "I will be creating my arrays using Numpy matrix because it is more efficient and will make my code to run faster, so I will be vectorizing my code."
   ]
  },
  {
   "cell_type": "code",
   "execution_count": 40,
   "metadata": {},
   "outputs": [],
   "source": [
    "# the X array will be the contents of my features dataframe.\n",
    "# I will call the to_numpy function to make sure the data is a numpy matrix data type and not a pandas dataframe\n",
    "X = features_df.to_numpy()\n",
    "\n",
    "# the y array will be the sales price column from my original dataset\n",
    "y = house_df['sale_price'].to_numpy()"
   ]
  },
  {
   "cell_type": "markdown",
   "metadata": {},
   "source": [
    "**Train & Test Data**\n",
    "\n",
    "In this section, I will perform a train-test-split. When performing a train-test-split, it is important that the data is **randomly** split. Another thing to consider is just **how big** each training and testing set should be. I split the data into a training data set and a test data set. I will use Scikit-learn to do this in one linne of code. I will do the training set size at 70% and 30% for the testing set.\n",
    "\n",
    "By training and testing, it will allow us to prove the accuracy of the model and prove that it actually learned general rules for predicting house prices."
   ]
  },
  {
   "cell_type": "code",
   "execution_count": 41,
   "metadata": {},
   "outputs": [],
   "source": [
    "#This command will shuffle all of our data so it's in a random order, and then split it into two groups. \n",
    "#The test size equals 0.3 parameter tells it we want to keep 70% of the data for training and 30%for testing. \n",
    "X_train, X_test, y_train, y_test = train_test_split(X, y, test_size=0.3)"
   ]
  },
  {
   "cell_type": "markdown",
   "metadata": {},
   "source": [
    "**Creating and Training ML model**\n",
    "For this machine learning model, I will be using the scikit-learn gradient boosting regressor. this will be one line of code!\n",
    "\n",
    "I will need to set the hyper-parameters that control how the gradient boosting regressor model will run. \n",
    "\n",
    "**Gradient boosting** is an ensemble learning algorithm meaning that it uses many simple machine learning models that work together to give a more accurate answer than any individual model could by itself. The basic data structure behind gradient boosting is a decision tree, it creates a combination of decision trees that build on each other.\n",
    "\n"
   ]
  },
  {
   "cell_type": "markdown",
   "metadata": {},
   "source": [
    "n_estimators: determines how many decision trees to build, higher numbers are more accurate but require more time to run the model.\n",
    "\n",
    "learning_rate: controls how much each additional decision tree influences the overall prediction. Lower rates usually lead to higher accuracy, but only works if n_estimators is set to a high value.\n",
    "\n",
    "max_depth: controls how many layers deep each individual decision tree can be.\n",
    "\n",
    "min_samples_leaf: controls how many times a value must appear in my training set for a decision tree-\n",
    "to make a decision based on it.\n",
    "\n",
    "max_features: the percentage of features in the model that we randomly choose to consider each time we create a branch in our decision tree.\n",
    "\n",
    "loss: controls how scikit-learn calculates the error rate or cost as it learns.\n",
    "    huber function: is a combination of the squarred error for regression and the absolute error of regression."
   ]
  },
  {
   "cell_type": "code",
   "execution_count": 42,
   "metadata": {},
   "outputs": [],
   "source": [
    "#Fit regression model\n",
    "model = ensemble.GradientBoostingRegressor(\n",
    "    n_estimators=1000,\n",
    "    learning_rate=0.1,\n",
    "    max_depth=6,\n",
    "    min_samples_leaf=9,\n",
    "    max_features=0.1,\n",
    "    loss='huber')"
   ]
  },
  {
   "cell_type": "code",
   "execution_count": 43,
   "metadata": {},
   "outputs": [
    {
     "data": {
      "text/plain": [
       "GradientBoostingRegressor(loss='huber', max_depth=6, max_features=0.1,\n",
       "                          min_samples_leaf=9, n_estimators=1000)"
      ]
     },
     "execution_count": 43,
     "metadata": {},
     "output_type": "execute_result"
    }
   ],
   "source": [
    "# next I tell the model to train using the training data set by calling scikit-learn's fit function on the model.\n",
    "model.fit(X_train, y_train)"
   ]
  },
  {
   "cell_type": "markdown",
   "metadata": {},
   "source": [
    "Now that the ML model is trained, the next step is to measure the performance of the model is.\n",
    "\n",
    "I will use the **mean absolute error** to check the accuracy of my models predictions.\n",
    "Mean absolute error expresses how incorrect the model is in an average prediction. "
   ]
  },
  {
   "cell_type": "code",
   "execution_count": 44,
   "metadata": {},
   "outputs": [
    {
     "name": "stdout",
     "output_type": "stream",
     "text": [
      "Training Set Mean Absolute Error: 47847.0009\n"
     ]
    }
   ],
   "source": [
    "# error rate on the training set\n",
    "mse = mean_absolute_error(y_train, model.predict(X_train))\n",
    "print(\"Training Set Mean Absolute Error: %.4f\" % mse)"
   ]
  },
  {
   "cell_type": "code",
   "execution_count": 45,
   "metadata": {},
   "outputs": [
    {
     "name": "stdout",
     "output_type": "stream",
     "text": [
      "Test Set Mean Absolute Error: 59443.4001\n"
     ]
    }
   ],
   "source": [
    "# error rate on the test set\n",
    "mse = mean_absolute_error(y_test, model.predict(X_test))\n",
    "print(\"Test Set Mean Absolute Error: %.4f\" % mse)"
   ]
  },
  {
   "cell_type": "markdown",
   "metadata": {},
   "source": [
    "For the training set, the MAE is 48,464 dollars. This means that our model is off by about 48,000 dollars in a given prediction. So the model was able to predict the value of every house in the training data set to within $48,000 of the real price.\n",
    "\n",
    "For the test set, the MAE was a bit higher at $59,321. Which means that the model still works for houses it has never seen before, but not quite as well as for the training houses.\n",
    "\n",
    "Given the wide range of houses in my model, that is quite good.\n"
   ]
  },
  {
   "cell_type": "code",
   "execution_count": null,
   "metadata": {},
   "outputs": [],
   "source": []
  },
  {
   "cell_type": "code",
   "execution_count": null,
   "metadata": {},
   "outputs": [],
   "source": []
  },
  {
   "cell_type": "code",
   "execution_count": null,
   "metadata": {},
   "outputs": [],
   "source": []
  }
 ],
 "metadata": {
  "kernelspec": {
   "display_name": "Python 3",
   "language": "python",
   "name": "python3"
  },
  "language_info": {
   "codemirror_mode": {
    "name": "ipython",
    "version": 3
   },
   "file_extension": ".py",
   "mimetype": "text/x-python",
   "name": "python",
   "nbconvert_exporter": "python",
   "pygments_lexer": "ipython3",
   "version": "3.8.5"
  }
 },
 "nbformat": 4,
 "nbformat_minor": 4
}
